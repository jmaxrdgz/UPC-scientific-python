{
 "cells": [
  {
   "cell_type": "code",
   "execution_count": 14,
   "metadata": {},
   "outputs": [],
   "source": [
    "import time\n",
    "import tracemalloc\n",
    "from functools import wraps"
   ]
  },
  {
   "cell_type": "code",
   "execution_count": 29,
   "metadata": {},
   "outputs": [
    {
     "name": "stdout",
     "output_type": "stream",
     "text": [
      "---\n",
      "Executing  : loop\n",
      "Duration of task : 0.519063 s\n",
      "Max memory usage : 2326876.000000 MB\n",
      "---\n"
     ]
    }
   ],
   "source": [
    "def measure_performance(func):\n",
    "\n",
    "    @wraps(func)\n",
    "    def wrapper(*args, **kwargs):\n",
    "        tracemalloc.start()\n",
    "        start_time = time.time()\n",
    "\n",
    "        # Execute function\n",
    "        func(*args, **kwargs)\n",
    "\n",
    "        stop_time = time.time()\n",
    "        current, peak = tracemalloc.get_traced_memory()\n",
    "        duration = stop_time - start_time\n",
    "\n",
    "        # Print information\n",
    "        print('---')\n",
    "        print(f'Executing  : {func.__name__}')\n",
    "        print(f'Duration of task : {duration:.6f} s')\n",
    "        print(f'Max memory usage : {peak:.6f} MB')\n",
    "        print('---')\n",
    "\n",
    "    return wrapper\n",
    "\n",
    "@measure_performance\n",
    "def loop(iteration):\n",
    "    i = 0\n",
    "    for i in range(iteration):\n",
    "        i += 1\n",
    "\n",
    "loop(1000000)"
   ]
  },
  {
   "cell_type": "code",
   "execution_count": null,
   "metadata": {},
   "outputs": [],
   "source": []
  }
 ],
 "metadata": {
  "kernelspec": {
   "display_name": "venv",
   "language": "python",
   "name": "python3"
  },
  "language_info": {
   "codemirror_mode": {
    "name": "ipython",
    "version": 3
   },
   "file_extension": ".py",
   "mimetype": "text/x-python",
   "name": "python",
   "nbconvert_exporter": "python",
   "pygments_lexer": "ipython3",
   "version": "3.11.11"
  }
 },
 "nbformat": 4,
 "nbformat_minor": 2
}
